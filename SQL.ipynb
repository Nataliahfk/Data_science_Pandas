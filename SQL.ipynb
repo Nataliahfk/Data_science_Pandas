{
  "nbformat": 4,
  "nbformat_minor": 0,
  "metadata": {
    "colab": {
      "provenance": [],
      "authorship_tag": "ABX9TyNX1afR2ETy9cxYvU/IY7iR",
      "include_colab_link": true
    },
    "kernelspec": {
      "name": "python3",
      "display_name": "Python 3"
    },
    "language_info": {
      "name": "python"
    }
  },
  "cells": [
    {
      "cell_type": "markdown",
      "metadata": {
        "id": "view-in-github",
        "colab_type": "text"
      },
      "source": [
        "<a href=\"https://colab.research.google.com/github/Nataliahfk/Data_science_Pandas/blob/main/SQL.ipynb\" target=\"_parent\"><img src=\"https://colab.research.google.com/assets/colab-badge.svg\" alt=\"Open In Colab\"/></a>"
      ]
    },
    {
      "cell_type": "markdown",
      "source": [
        "##**Aula 5 - Leyendo Bases de Datos**"
      ],
      "metadata": {
        "id": "g0q_cHjbznQD"
      }
    },
    {
      "cell_type": "markdown",
      "source": [
        "####**Creando una Base de Datos**"
      ],
      "metadata": {
        "id": "cSmtyCduxkTh"
      }
    },
    {
      "cell_type": "markdown",
      "source": [
        "Las bases de datos son sistemas que permiten el almacenamiento, organización y recuperación de información de forma estructurada y eficiente. Se utilizan ampliamente en muchas áreas, desde la gestión empresarial hasta la investigación científica. Una base de datos bien diseñada puede mejorar significativamente la eficiencia y precisión de las operaciones de una organización.\n",
        "\n",
        "Existen bases de datos relacionales y no relacionales. Las bases de datos relacionales representan y almacenan datos en tablas. Las bases de datos no relacionales, también conocidas como bases de datos NoSQL (Not Only SQL - No Sólo SQL), utilizan una variedad de estructuras de datos, como documentos, gráfos o pares llave-valor.\n",
        "\n",
        "Python ofrece varios paquetes y bibliotecas para trabajar con bases de datos, incluyendo SQLite, MySQL, PostgreSQL, Oracle, MongoDB, entre otros. Uno de los paquetes más comunes utilizados para trabajar con bases de datos relacionales en Python es el paquete sqlite3 que ofrece soporte a bases de datos SQLite. Esta base de datos es liviana e integrada, no requiere un servidor separado para ejecutarse y está instalada de forma nativa en Google Colab.\n",
        "\n",
        "Para trabajar con esta base de datos, podemos usar SQLAlchemy, una biblioteca de mapeo objeto-relacional (ORM), que permite interactuar con bases de datos relacionales usando código Python. Proporciona una capa de abstracción que permite a los desarrolladores trabajar con objetos Python en lugar de lidiar directamente con las complejidades del lenguaje SQL (Structured Query Language - Lenguaje de consulta estructurado).\n",
        "\n",
        "Uno de los principales beneficios de utilizar SQLAchemy es la capacidad de crear código más legible y fácil de mantener. Con SQLAlchemy, las operaciones de la base de datos se realizan utilizando métodos en objetos Python, lo que hace que el código sea más claro y menos propenso a errores.\n",
        "\n",
        "Además, SQLAlchemy ofrece soporte a consultas complejas en bases de datos, lo que permite a los desarrolladores extraer fácilmente información relevante de grandes conjuntos de datos. Esto es especialmente útil en aplicaciones que necesitan manejar grandes cantidades de datos."
      ],
      "metadata": {
        "id": "BSwgQFJJz7PS"
      }
    },
    {
      "cell_type": "code",
      "source": [
        "import sqlalchemy"
      ],
      "metadata": {
        "id": "seGpuubdxo1a"
      },
      "execution_count": 3,
      "outputs": []
    },
    {
      "cell_type": "code",
      "source": [
        "from sqlalchemy import create_engine, MetaData, Table, inspect, text"
      ],
      "metadata": {
        "id": "LtcyZ9nIxyfn"
      },
      "execution_count": 2,
      "outputs": []
    },
    {
      "cell_type": "code",
      "source": [
        "# Sqlite ya viene instalado para leerlo en google colab y se debe escribir el sig. comando\n",
        "resultado_engine = create_engine('sqlite:///:memory:')"
      ],
      "metadata": {
        "id": "-dHANtDeyL6H"
      },
      "execution_count": 5,
      "outputs": []
    },
    {
      "cell_type": "markdown",
      "source": [
        "####**Escribiendo una Base de Datos**"
      ],
      "metadata": {
        "id": "oJIyIX1u38sI"
      }
    },
    {
      "cell_type": "code",
      "source": [
        "import pandas as pd"
      ],
      "metadata": {
        "id": "luWmxcQi4TC4"
      },
      "execution_count": 6,
      "outputs": []
    },
    {
      "cell_type": "code",
      "source": [
        "archivo = 'clientes_banco.csv'"
      ],
      "metadata": {
        "id": "9Eopk4pk31pB"
      },
      "execution_count": 7,
      "outputs": []
    },
    {
      "cell_type": "code",
      "source": [
        "datos = pd.read_csv(archivo)\n",
        "datos"
      ],
      "metadata": {
        "colab": {
          "base_uri": "https://localhost:8080/",
          "height": 599
        },
        "id": "EuJWEZBD4Jy5",
        "outputId": "5b713c63-7ce0-4e6a-e0cf-6c849b4bf126"
      },
      "execution_count": 11,
      "outputs": [
        {
          "output_type": "execute_result",
          "data": {
            "text/plain": [
              "        ID_Cliente  Edad     Grado_estudio      Estado_civil  Tamaño_familia  \\\n",
              "0          5008804    32    Nivel superior  Relación-estable               2   \n",
              "1          5008805    32    Nivel superior  Relación-estable               2   \n",
              "2          5008806    58  Nivel intermedio            Casado               2   \n",
              "3          5008808    52  Nivel intermedio           Soltero               1   \n",
              "4          5008809    52  Nivel intermedio           Soltero               1   \n",
              "...            ...   ...               ...               ...             ...   \n",
              "438458     6840104    62  Nivel intermedio        Divorciado               1   \n",
              "438459     6840222    43  Nivel intermedio           Soltero               1   \n",
              "438460     6841878    22    Nivel superior           Soltero               1   \n",
              "438461     6842765    59  Nivel intermedio            Casado               2   \n",
              "438462     6842885    51  Nivel intermedio            Casado               2   \n",
              "\n",
              "       Categoria_de_renta           Ocupacion  Años_empleado  \\\n",
              "0                Empleado                Otro             12   \n",
              "1                Empleado                Otro             12   \n",
              "2                Empleado           Seguridad              3   \n",
              "3        Business Partner              Ventas              8   \n",
              "4        Business Partner              Ventas              8   \n",
              "...                   ...                 ...            ...   \n",
              "438458        Pensionista                Otro              0   \n",
              "438459           Empleado  Construcción Civil              8   \n",
              "438460   Business Partner              Ventas              1   \n",
              "438461        Pensionista                Otro              0   \n",
              "438462           Empleado              Ventas              3   \n",
              "\n",
              "        Rendimiento_anual  Tiene_carro                  Vivienda  \n",
              "0                427500.0            1    Departamento alquilado  \n",
              "1                427500.0            1    Departamento alquilado  \n",
              "2                112500.0            1  Casa/Departamento propio  \n",
              "3                270000.0            0  Casa/Departamento propio  \n",
              "4                270000.0            0  Casa/Departamento propio  \n",
              "...                   ...          ...                       ...  \n",
              "438458           135000.0            0  Casa/Departamento propio  \n",
              "438459           103500.0            0  Casa/Departamento propio  \n",
              "438460            54000.0            0       Vive con los padres  \n",
              "438461            72000.0            0  Casa/Departamento propio  \n",
              "438462           121500.0            0  Casa/Departamento propio  \n",
              "\n",
              "[438463 rows x 11 columns]"
            ],
            "text/html": [
              "\n",
              "  <div id=\"df-f5be10ee-431b-42ee-9d79-414cd9cc7f36\" class=\"colab-df-container\">\n",
              "    <div>\n",
              "<style scoped>\n",
              "    .dataframe tbody tr th:only-of-type {\n",
              "        vertical-align: middle;\n",
              "    }\n",
              "\n",
              "    .dataframe tbody tr th {\n",
              "        vertical-align: top;\n",
              "    }\n",
              "\n",
              "    .dataframe thead th {\n",
              "        text-align: right;\n",
              "    }\n",
              "</style>\n",
              "<table border=\"1\" class=\"dataframe\">\n",
              "  <thead>\n",
              "    <tr style=\"text-align: right;\">\n",
              "      <th></th>\n",
              "      <th>ID_Cliente</th>\n",
              "      <th>Edad</th>\n",
              "      <th>Grado_estudio</th>\n",
              "      <th>Estado_civil</th>\n",
              "      <th>Tamaño_familia</th>\n",
              "      <th>Categoria_de_renta</th>\n",
              "      <th>Ocupacion</th>\n",
              "      <th>Años_empleado</th>\n",
              "      <th>Rendimiento_anual</th>\n",
              "      <th>Tiene_carro</th>\n",
              "      <th>Vivienda</th>\n",
              "    </tr>\n",
              "  </thead>\n",
              "  <tbody>\n",
              "    <tr>\n",
              "      <th>0</th>\n",
              "      <td>5008804</td>\n",
              "      <td>32</td>\n",
              "      <td>Nivel superior</td>\n",
              "      <td>Relación-estable</td>\n",
              "      <td>2</td>\n",
              "      <td>Empleado</td>\n",
              "      <td>Otro</td>\n",
              "      <td>12</td>\n",
              "      <td>427500.0</td>\n",
              "      <td>1</td>\n",
              "      <td>Departamento alquilado</td>\n",
              "    </tr>\n",
              "    <tr>\n",
              "      <th>1</th>\n",
              "      <td>5008805</td>\n",
              "      <td>32</td>\n",
              "      <td>Nivel superior</td>\n",
              "      <td>Relación-estable</td>\n",
              "      <td>2</td>\n",
              "      <td>Empleado</td>\n",
              "      <td>Otro</td>\n",
              "      <td>12</td>\n",
              "      <td>427500.0</td>\n",
              "      <td>1</td>\n",
              "      <td>Departamento alquilado</td>\n",
              "    </tr>\n",
              "    <tr>\n",
              "      <th>2</th>\n",
              "      <td>5008806</td>\n",
              "      <td>58</td>\n",
              "      <td>Nivel intermedio</td>\n",
              "      <td>Casado</td>\n",
              "      <td>2</td>\n",
              "      <td>Empleado</td>\n",
              "      <td>Seguridad</td>\n",
              "      <td>3</td>\n",
              "      <td>112500.0</td>\n",
              "      <td>1</td>\n",
              "      <td>Casa/Departamento propio</td>\n",
              "    </tr>\n",
              "    <tr>\n",
              "      <th>3</th>\n",
              "      <td>5008808</td>\n",
              "      <td>52</td>\n",
              "      <td>Nivel intermedio</td>\n",
              "      <td>Soltero</td>\n",
              "      <td>1</td>\n",
              "      <td>Business Partner</td>\n",
              "      <td>Ventas</td>\n",
              "      <td>8</td>\n",
              "      <td>270000.0</td>\n",
              "      <td>0</td>\n",
              "      <td>Casa/Departamento propio</td>\n",
              "    </tr>\n",
              "    <tr>\n",
              "      <th>4</th>\n",
              "      <td>5008809</td>\n",
              "      <td>52</td>\n",
              "      <td>Nivel intermedio</td>\n",
              "      <td>Soltero</td>\n",
              "      <td>1</td>\n",
              "      <td>Business Partner</td>\n",
              "      <td>Ventas</td>\n",
              "      <td>8</td>\n",
              "      <td>270000.0</td>\n",
              "      <td>0</td>\n",
              "      <td>Casa/Departamento propio</td>\n",
              "    </tr>\n",
              "    <tr>\n",
              "      <th>...</th>\n",
              "      <td>...</td>\n",
              "      <td>...</td>\n",
              "      <td>...</td>\n",
              "      <td>...</td>\n",
              "      <td>...</td>\n",
              "      <td>...</td>\n",
              "      <td>...</td>\n",
              "      <td>...</td>\n",
              "      <td>...</td>\n",
              "      <td>...</td>\n",
              "      <td>...</td>\n",
              "    </tr>\n",
              "    <tr>\n",
              "      <th>438458</th>\n",
              "      <td>6840104</td>\n",
              "      <td>62</td>\n",
              "      <td>Nivel intermedio</td>\n",
              "      <td>Divorciado</td>\n",
              "      <td>1</td>\n",
              "      <td>Pensionista</td>\n",
              "      <td>Otro</td>\n",
              "      <td>0</td>\n",
              "      <td>135000.0</td>\n",
              "      <td>0</td>\n",
              "      <td>Casa/Departamento propio</td>\n",
              "    </tr>\n",
              "    <tr>\n",
              "      <th>438459</th>\n",
              "      <td>6840222</td>\n",
              "      <td>43</td>\n",
              "      <td>Nivel intermedio</td>\n",
              "      <td>Soltero</td>\n",
              "      <td>1</td>\n",
              "      <td>Empleado</td>\n",
              "      <td>Construcción Civil</td>\n",
              "      <td>8</td>\n",
              "      <td>103500.0</td>\n",
              "      <td>0</td>\n",
              "      <td>Casa/Departamento propio</td>\n",
              "    </tr>\n",
              "    <tr>\n",
              "      <th>438460</th>\n",
              "      <td>6841878</td>\n",
              "      <td>22</td>\n",
              "      <td>Nivel superior</td>\n",
              "      <td>Soltero</td>\n",
              "      <td>1</td>\n",
              "      <td>Business Partner</td>\n",
              "      <td>Ventas</td>\n",
              "      <td>1</td>\n",
              "      <td>54000.0</td>\n",
              "      <td>0</td>\n",
              "      <td>Vive con los padres</td>\n",
              "    </tr>\n",
              "    <tr>\n",
              "      <th>438461</th>\n",
              "      <td>6842765</td>\n",
              "      <td>59</td>\n",
              "      <td>Nivel intermedio</td>\n",
              "      <td>Casado</td>\n",
              "      <td>2</td>\n",
              "      <td>Pensionista</td>\n",
              "      <td>Otro</td>\n",
              "      <td>0</td>\n",
              "      <td>72000.0</td>\n",
              "      <td>0</td>\n",
              "      <td>Casa/Departamento propio</td>\n",
              "    </tr>\n",
              "    <tr>\n",
              "      <th>438462</th>\n",
              "      <td>6842885</td>\n",
              "      <td>51</td>\n",
              "      <td>Nivel intermedio</td>\n",
              "      <td>Casado</td>\n",
              "      <td>2</td>\n",
              "      <td>Empleado</td>\n",
              "      <td>Ventas</td>\n",
              "      <td>3</td>\n",
              "      <td>121500.0</td>\n",
              "      <td>0</td>\n",
              "      <td>Casa/Departamento propio</td>\n",
              "    </tr>\n",
              "  </tbody>\n",
              "</table>\n",
              "<p>438463 rows × 11 columns</p>\n",
              "</div>\n",
              "    <div class=\"colab-df-buttons\">\n",
              "\n",
              "  <div class=\"colab-df-container\">\n",
              "    <button class=\"colab-df-convert\" onclick=\"convertToInteractive('df-f5be10ee-431b-42ee-9d79-414cd9cc7f36')\"\n",
              "            title=\"Convert this dataframe to an interactive table.\"\n",
              "            style=\"display:none;\">\n",
              "\n",
              "  <svg xmlns=\"http://www.w3.org/2000/svg\" height=\"24px\" viewBox=\"0 -960 960 960\">\n",
              "    <path d=\"M120-120v-720h720v720H120Zm60-500h600v-160H180v160Zm220 220h160v-160H400v160Zm0 220h160v-160H400v160ZM180-400h160v-160H180v160Zm440 0h160v-160H620v160ZM180-180h160v-160H180v160Zm440 0h160v-160H620v160Z\"/>\n",
              "  </svg>\n",
              "    </button>\n",
              "\n",
              "  <style>\n",
              "    .colab-df-container {\n",
              "      display:flex;\n",
              "      gap: 12px;\n",
              "    }\n",
              "\n",
              "    .colab-df-convert {\n",
              "      background-color: #E8F0FE;\n",
              "      border: none;\n",
              "      border-radius: 50%;\n",
              "      cursor: pointer;\n",
              "      display: none;\n",
              "      fill: #1967D2;\n",
              "      height: 32px;\n",
              "      padding: 0 0 0 0;\n",
              "      width: 32px;\n",
              "    }\n",
              "\n",
              "    .colab-df-convert:hover {\n",
              "      background-color: #E2EBFA;\n",
              "      box-shadow: 0px 1px 2px rgba(60, 64, 67, 0.3), 0px 1px 3px 1px rgba(60, 64, 67, 0.15);\n",
              "      fill: #174EA6;\n",
              "    }\n",
              "\n",
              "    .colab-df-buttons div {\n",
              "      margin-bottom: 4px;\n",
              "    }\n",
              "\n",
              "    [theme=dark] .colab-df-convert {\n",
              "      background-color: #3B4455;\n",
              "      fill: #D2E3FC;\n",
              "    }\n",
              "\n",
              "    [theme=dark] .colab-df-convert:hover {\n",
              "      background-color: #434B5C;\n",
              "      box-shadow: 0px 1px 3px 1px rgba(0, 0, 0, 0.15);\n",
              "      filter: drop-shadow(0px 1px 2px rgba(0, 0, 0, 0.3));\n",
              "      fill: #FFFFFF;\n",
              "    }\n",
              "  </style>\n",
              "\n",
              "    <script>\n",
              "      const buttonEl =\n",
              "        document.querySelector('#df-f5be10ee-431b-42ee-9d79-414cd9cc7f36 button.colab-df-convert');\n",
              "      buttonEl.style.display =\n",
              "        google.colab.kernel.accessAllowed ? 'block' : 'none';\n",
              "\n",
              "      async function convertToInteractive(key) {\n",
              "        const element = document.querySelector('#df-f5be10ee-431b-42ee-9d79-414cd9cc7f36');\n",
              "        const dataTable =\n",
              "          await google.colab.kernel.invokeFunction('convertToInteractive',\n",
              "                                                    [key], {});\n",
              "        if (!dataTable) return;\n",
              "\n",
              "        const docLinkHtml = 'Like what you see? Visit the ' +\n",
              "          '<a target=\"_blank\" href=https://colab.research.google.com/notebooks/data_table.ipynb>data table notebook</a>'\n",
              "          + ' to learn more about interactive tables.';\n",
              "        element.innerHTML = '';\n",
              "        dataTable['output_type'] = 'display_data';\n",
              "        await google.colab.output.renderOutput(dataTable, element);\n",
              "        const docLink = document.createElement('div');\n",
              "        docLink.innerHTML = docLinkHtml;\n",
              "        element.appendChild(docLink);\n",
              "      }\n",
              "    </script>\n",
              "  </div>\n",
              "\n",
              "\n",
              "    <div id=\"df-3d201c0b-2354-4e3e-a786-e4da54e2d59b\">\n",
              "      <button class=\"colab-df-quickchart\" onclick=\"quickchart('df-3d201c0b-2354-4e3e-a786-e4da54e2d59b')\"\n",
              "                title=\"Suggest charts\"\n",
              "                style=\"display:none;\">\n",
              "\n",
              "<svg xmlns=\"http://www.w3.org/2000/svg\" height=\"24px\"viewBox=\"0 0 24 24\"\n",
              "     width=\"24px\">\n",
              "    <g>\n",
              "        <path d=\"M19 3H5c-1.1 0-2 .9-2 2v14c0 1.1.9 2 2 2h14c1.1 0 2-.9 2-2V5c0-1.1-.9-2-2-2zM9 17H7v-7h2v7zm4 0h-2V7h2v10zm4 0h-2v-4h2v4z\"/>\n",
              "    </g>\n",
              "</svg>\n",
              "      </button>\n",
              "\n",
              "<style>\n",
              "  .colab-df-quickchart {\n",
              "      --bg-color: #E8F0FE;\n",
              "      --fill-color: #1967D2;\n",
              "      --hover-bg-color: #E2EBFA;\n",
              "      --hover-fill-color: #174EA6;\n",
              "      --disabled-fill-color: #AAA;\n",
              "      --disabled-bg-color: #DDD;\n",
              "  }\n",
              "\n",
              "  [theme=dark] .colab-df-quickchart {\n",
              "      --bg-color: #3B4455;\n",
              "      --fill-color: #D2E3FC;\n",
              "      --hover-bg-color: #434B5C;\n",
              "      --hover-fill-color: #FFFFFF;\n",
              "      --disabled-bg-color: #3B4455;\n",
              "      --disabled-fill-color: #666;\n",
              "  }\n",
              "\n",
              "  .colab-df-quickchart {\n",
              "    background-color: var(--bg-color);\n",
              "    border: none;\n",
              "    border-radius: 50%;\n",
              "    cursor: pointer;\n",
              "    display: none;\n",
              "    fill: var(--fill-color);\n",
              "    height: 32px;\n",
              "    padding: 0;\n",
              "    width: 32px;\n",
              "  }\n",
              "\n",
              "  .colab-df-quickchart:hover {\n",
              "    background-color: var(--hover-bg-color);\n",
              "    box-shadow: 0 1px 2px rgba(60, 64, 67, 0.3), 0 1px 3px 1px rgba(60, 64, 67, 0.15);\n",
              "    fill: var(--button-hover-fill-color);\n",
              "  }\n",
              "\n",
              "  .colab-df-quickchart-complete:disabled,\n",
              "  .colab-df-quickchart-complete:disabled:hover {\n",
              "    background-color: var(--disabled-bg-color);\n",
              "    fill: var(--disabled-fill-color);\n",
              "    box-shadow: none;\n",
              "  }\n",
              "\n",
              "  .colab-df-spinner {\n",
              "    border: 2px solid var(--fill-color);\n",
              "    border-color: transparent;\n",
              "    border-bottom-color: var(--fill-color);\n",
              "    animation:\n",
              "      spin 1s steps(1) infinite;\n",
              "  }\n",
              "\n",
              "  @keyframes spin {\n",
              "    0% {\n",
              "      border-color: transparent;\n",
              "      border-bottom-color: var(--fill-color);\n",
              "      border-left-color: var(--fill-color);\n",
              "    }\n",
              "    20% {\n",
              "      border-color: transparent;\n",
              "      border-left-color: var(--fill-color);\n",
              "      border-top-color: var(--fill-color);\n",
              "    }\n",
              "    30% {\n",
              "      border-color: transparent;\n",
              "      border-left-color: var(--fill-color);\n",
              "      border-top-color: var(--fill-color);\n",
              "      border-right-color: var(--fill-color);\n",
              "    }\n",
              "    40% {\n",
              "      border-color: transparent;\n",
              "      border-right-color: var(--fill-color);\n",
              "      border-top-color: var(--fill-color);\n",
              "    }\n",
              "    60% {\n",
              "      border-color: transparent;\n",
              "      border-right-color: var(--fill-color);\n",
              "    }\n",
              "    80% {\n",
              "      border-color: transparent;\n",
              "      border-right-color: var(--fill-color);\n",
              "      border-bottom-color: var(--fill-color);\n",
              "    }\n",
              "    90% {\n",
              "      border-color: transparent;\n",
              "      border-bottom-color: var(--fill-color);\n",
              "    }\n",
              "  }\n",
              "</style>\n",
              "\n",
              "      <script>\n",
              "        async function quickchart(key) {\n",
              "          const quickchartButtonEl =\n",
              "            document.querySelector('#' + key + ' button');\n",
              "          quickchartButtonEl.disabled = true;  // To prevent multiple clicks.\n",
              "          quickchartButtonEl.classList.add('colab-df-spinner');\n",
              "          try {\n",
              "            const charts = await google.colab.kernel.invokeFunction(\n",
              "                'suggestCharts', [key], {});\n",
              "          } catch (error) {\n",
              "            console.error('Error during call to suggestCharts:', error);\n",
              "          }\n",
              "          quickchartButtonEl.classList.remove('colab-df-spinner');\n",
              "          quickchartButtonEl.classList.add('colab-df-quickchart-complete');\n",
              "        }\n",
              "        (() => {\n",
              "          let quickchartButtonEl =\n",
              "            document.querySelector('#df-3d201c0b-2354-4e3e-a786-e4da54e2d59b button');\n",
              "          quickchartButtonEl.style.display =\n",
              "            google.colab.kernel.accessAllowed ? 'block' : 'none';\n",
              "        })();\n",
              "      </script>\n",
              "    </div>\n",
              "\n",
              "  <div id=\"id_2af0bc50-2dea-4751-8db6-de533e8b1f8f\">\n",
              "    <style>\n",
              "      .colab-df-generate {\n",
              "        background-color: #E8F0FE;\n",
              "        border: none;\n",
              "        border-radius: 50%;\n",
              "        cursor: pointer;\n",
              "        display: none;\n",
              "        fill: #1967D2;\n",
              "        height: 32px;\n",
              "        padding: 0 0 0 0;\n",
              "        width: 32px;\n",
              "      }\n",
              "\n",
              "      .colab-df-generate:hover {\n",
              "        background-color: #E2EBFA;\n",
              "        box-shadow: 0px 1px 2px rgba(60, 64, 67, 0.3), 0px 1px 3px 1px rgba(60, 64, 67, 0.15);\n",
              "        fill: #174EA6;\n",
              "      }\n",
              "\n",
              "      [theme=dark] .colab-df-generate {\n",
              "        background-color: #3B4455;\n",
              "        fill: #D2E3FC;\n",
              "      }\n",
              "\n",
              "      [theme=dark] .colab-df-generate:hover {\n",
              "        background-color: #434B5C;\n",
              "        box-shadow: 0px 1px 3px 1px rgba(0, 0, 0, 0.15);\n",
              "        filter: drop-shadow(0px 1px 2px rgba(0, 0, 0, 0.3));\n",
              "        fill: #FFFFFF;\n",
              "      }\n",
              "    </style>\n",
              "    <button class=\"colab-df-generate\" onclick=\"generateWithVariable('datos')\"\n",
              "            title=\"Generate code using this dataframe.\"\n",
              "            style=\"display:none;\">\n",
              "\n",
              "  <svg xmlns=\"http://www.w3.org/2000/svg\" height=\"24px\"viewBox=\"0 0 24 24\"\n",
              "       width=\"24px\">\n",
              "    <path d=\"M7,19H8.4L18.45,9,17,7.55,7,17.6ZM5,21V16.75L18.45,3.32a2,2,0,0,1,2.83,0l1.4,1.43a1.91,1.91,0,0,1,.58,1.4,1.91,1.91,0,0,1-.58,1.4L9.25,21ZM18.45,9,17,7.55Zm-12,3A5.31,5.31,0,0,0,4.9,8.1,5.31,5.31,0,0,0,1,6.5,5.31,5.31,0,0,0,4.9,4.9,5.31,5.31,0,0,0,6.5,1,5.31,5.31,0,0,0,8.1,4.9,5.31,5.31,0,0,0,12,6.5,5.46,5.46,0,0,0,6.5,12Z\"/>\n",
              "  </svg>\n",
              "    </button>\n",
              "    <script>\n",
              "      (() => {\n",
              "      const buttonEl =\n",
              "        document.querySelector('#id_2af0bc50-2dea-4751-8db6-de533e8b1f8f button.colab-df-generate');\n",
              "      buttonEl.style.display =\n",
              "        google.colab.kernel.accessAllowed ? 'block' : 'none';\n",
              "\n",
              "      buttonEl.onclick = () => {\n",
              "        google.colab.notebook.generateWithVariable('datos');\n",
              "      }\n",
              "      })();\n",
              "    </script>\n",
              "  </div>\n",
              "\n",
              "    </div>\n",
              "  </div>\n"
            ],
            "application/vnd.google.colaboratory.intrinsic+json": {
              "type": "dataframe",
              "variable_name": "datos"
            }
          },
          "metadata": {},
          "execution_count": 11
        }
      ]
    },
    {
      "cell_type": "markdown",
      "source": [
        "No se pueden pasar los datos directos de un CVS a una Base de Datos, primero se debe pasar a un DataFrame y luego a una Base de Datos"
      ],
      "metadata": {
        "id": "0VAANis_4-zs"
      }
    },
    {
      "cell_type": "markdown",
      "source": [
        "####**Exportar DataFrame a SQL**"
      ],
      "metadata": {
        "id": "pUJ82twp5uV7"
      }
    },
    {
      "cell_type": "markdown",
      "source": [],
      "metadata": {
        "id": "EByaiO0B6SQj"
      }
    },
    {
      "cell_type": "code",
      "source": [
        "# aqui estamos creando la tabla clientes y llamamos al motor antes guardado en resultado_engine\n",
        "datos.to_sql('clientes', resultado_engine, index=False)"
      ],
      "metadata": {
        "colab": {
          "base_uri": "https://localhost:8080/"
        },
        "id": "AsVHZ_fl5KTH",
        "outputId": "85ff3e73-f23d-4196-86c7-2e90ea2b2c8d"
      },
      "execution_count": 12,
      "outputs": [
        {
          "output_type": "execute_result",
          "data": {
            "text/plain": [
              "438463"
            ]
          },
          "metadata": {},
          "execution_count": 12
        }
      ]
    },
    {
      "cell_type": "code",
      "source": [
        "# recibe la ejecución del inspect engine, revisa todo lo que hay en el motor engine (resultado_engine)\n",
        "inspector = inspect(resultado_engine)\n",
        "print(inspector.get_table_names()) # metodo de sql solo para ispect"
      ],
      "metadata": {
        "colab": {
          "base_uri": "https://localhost:8080/"
        },
        "id": "YF7aZTEe6b2P",
        "outputId": "fd926c66-12d0-4ca2-eb04-20bdebd8f37f"
      },
      "execution_count": 13,
      "outputs": [
        {
          "output_type": "stream",
          "name": "stdout",
          "text": [
            "['clientes']\n"
          ]
        }
      ]
    },
    {
      "cell_type": "markdown",
      "source": [
        "####**Cláusulas SQL**"
      ],
      "metadata": {
        "id": "xSfvOdpv7Y3r"
      }
    },
    {
      "cell_type": "markdown",
      "source": [
        "SQL (Structured Query Language - Lenguaje de consulta estructurado) es un lenguaje de consulta utilizado en bases de datos relacionales para insertar, actualizar, consultar y administrar datos.\n",
        "\n",
        "Para hacer todo esto, existen cláusulas SQL, que son componentes fundamentales de las sentencias SQL, permitiendo especificar detalles sobre cómo se va a realizar la consulta u operación de la base de datos. Las cláusulas se utilizan para filtrar, ordenar, agrupar y limitar los resultados de la consulta.\n",
        "\n",
        "Las sentencias SQL pueden estar compuestas por una o más cláusulas que proporcionan información adicional sobre lo que se supone que debe hacer la consulta. Las cláusulas más comunes son:\n",
        "\n",
        "SELECT: especifica qué columnas deben seleccionarse en la consulta.\n",
        "FROM: Especifica las tablas de la base de datos que se consultarán.\n",
        "WHERE: Filtra los resultados de la consulta según una o más condiciones especificadas.\n",
        "ORDER BY: Ordena los resultados de la consulta en orden ascendente o descendente según una o más columnas.\n",
        "GROUP BY: agrupa los resultados de la consulta basados en una o más columnas.\n",
        "LIMIT: limita el número de filas devueltas por los resultados de la consulta.\n",
        "Tenemos un ejemplo sencillo de sintaxis SQL que utiliza el comando SELECT para consultar datos de una tabla de empleados en una base de datos:"
      ],
      "metadata": {
        "id": "0cM1KXWk8cy9"
      }
    },
    {
      "cell_type": "code",
      "source": [
        "'''\n",
        "SELECT nombre, apellido, salario\n",
        "FROM empleados\n",
        "WHERE departamento = 'ventas'\n",
        "'''"
      ],
      "metadata": {
        "id": "0fqBNL2U8p-Q"
      },
      "execution_count": null,
      "outputs": []
    },
    {
      "cell_type": "markdown",
      "source": [
        "En esta declaración SQL, la cláusula SELECT se utiliza para especificar las columnas que desea consultar de la tabla \"empleados\", incluyendo \"nombre\", \"apellido\" y \"salario\". La cláusula FROM se utiliza para especificar la tabla que se desea consultar, que en este caso es \"empleados\".\n",
        "\n",
        "La cláusula WHERE se utiliza para filtrar los resultados de la consulta según una condición específica. En este ejemplo, la condición es departamento = 'ventas', lo que significa que la consulta solo devolverá empleados que trabajan en el departamento de ventas.\n"
      ],
      "metadata": {
        "id": "HonF1nsH82Or"
      }
    }
  ]
}
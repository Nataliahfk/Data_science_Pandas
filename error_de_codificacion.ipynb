{
  "nbformat": 4,
  "nbformat_minor": 0,
  "metadata": {
    "colab": {
      "provenance": [],
      "authorship_tag": "ABX9TyPw8zUVtuzU1YS5TLZOBOxh",
      "include_colab_link": true
    },
    "kernelspec": {
      "name": "python3",
      "display_name": "Python 3"
    },
    "language_info": {
      "name": "python"
    }
  },
  "cells": [
    {
      "cell_type": "markdown",
      "metadata": {
        "id": "view-in-github",
        "colab_type": "text"
      },
      "source": [
        "<a href=\"https://colab.research.google.com/github/Nataliahfk/Data_science_Pandas/blob/main/error_de_codificacion.ipynb\" target=\"_parent\"><img src=\"https://colab.research.google.com/assets/colab-badge.svg\" alt=\"Open In Colab\"/></a>"
      ]
    },
    {
      "cell_type": "markdown",
      "source": [
        "###**Para saber más: error de codificación - ¿cómo solucionarlo?**"
      ],
      "metadata": {
        "id": "ZHqEeL6ksZHB"
      }
    },
    {
      "cell_type": "markdown",
      "source": [
        "Giovanna es una científica de datos que trabaja en una empresa de comercio electrónico. Ella es responsable de analizar datos de ventas para identificar patrones y tendencias que puedan ayudar a la empresa a tomar decisiones informadas.\n",
        "\n",
        "Recientemente, le asignaron una nueva tarea: analizar un archivo CSV que contiene información sobre las ventas de la empresa durante un período determinado. Para ello, Giovanna intentó leer un archivo CSV en Google Colab, usando la biblioteca Pandas con el siguiente comando:"
      ],
      "metadata": {
        "id": "lDjz5Ktesc43"
      }
    },
    {
      "cell_type": "code",
      "source": [
        "import pandas as pd\n",
        "df = pd.read_csv('datos.csv')"
      ],
      "metadata": {
        "id": "HsnNoB2jsfJZ"
      },
      "execution_count": null,
      "outputs": []
    },
    {
      "cell_type": "markdown",
      "source": [
        "Sin embargo, apareció el siguiente error:\n",
        "En español, el mensaje significa UnicodeDecodeError: el códec 'utf-8' no puede decodificar el byte 0xff en la posición 0: byte de inicio inválido\n",
        "\n",
        "Pero ¿qué significa eso? ¿Qué es esto de UTF-8?\n",
        "El error de encoding ocurre cuando la biblioteca Pandas no puede interpretar correctamente los caracteres en un archivo CSV. Esto puede suceder cuando contiene caracteres especiales que la biblioteca Pandas no reconoce o cuando se guardó en un formato de codificación diferente al esperado.\n",
        "\n",
        "Para resolver este error, es necesario identificar la codificación correcta del archivo CSV y especificarla al cargar el archivo con la biblioteca Pandas. Esta codificación predeterminada es UTF-8, pero en algunos casos, es posible que el archivo se haya guardado con una codificación diferente, como ISO-8859-1.\n",
        "\n",
        "UTF-8 es una codificación de caracteres universal que se utiliza para representar caracteres de diferentes idiomas de una manera compatible con Internet y los sistemas de computadora en general. Las siglas UTF significan Unicode Transformation Format (Formato de Transformación Unicode) y el número 8 indica que esta codificación asocia una secuencia de 1 a 4 bytes (8 a 32 bits) a cada carácter.\n",
        "\n",
        "La codificación UTF-8 se usa ampliamente en Internet y en sistemas informáticos de todo el mundo, ya que permite representar caracteres de diferentes idiomas en un solo conjunto de caracteres. Además, esta codificación puede preservar la compatibilidad con codificaciones más antiguas como ASCII, lo que la convierte en una opción popular para crear y compartir archivos de texto.\n",
        "\n",
        "Quizás estés pensando ahora mismo: ¿cómo podría Giovanna descubrir cuál es la codificación del archivo que está intentando leer?\n",
        "\n",
        "Hay algunas formas de resolver esto, sin embargo, tendremos la oportunidad de experimentar una forma práctica de hacerlo en el propio Google Colab. ¿Vamos allá?\n",
        "\n",
        "Podemos usar una biblioteca llamada chardet para detectar el encoding de un archivo CSV. Para usar esta biblioteca en Google Colab, simplemente importela:"
      ],
      "metadata": {
        "id": "gUvPmAbTsg58"
      }
    },
    {
      "cell_type": "code",
      "source": [
        "import chardet"
      ],
      "metadata": {
        "id": "QaFdxqvxspyt"
      },
      "execution_count": null,
      "outputs": []
    },
    {
      "cell_type": "markdown",
      "source": [
        "Luego escribimos el siguiente bloque de código:"
      ],
      "metadata": {
        "id": "SafdprjVsrNa"
      }
    },
    {
      "cell_type": "code",
      "source": [
        "with open('datos.csv', 'rb') as file:\n",
        "    print(chardet.detect(file.read()))"
      ],
      "metadata": {
        "id": "Mz7VS391ssQj"
      },
      "execution_count": null,
      "outputs": []
    },
    {
      "cell_type": "markdown",
      "source": [
        "Observe que la primera línea de este código abre el archivo CSV en modo de lectura binaria rb y asigna el objeto del archivo devuelto a una variable llamada file.\n",
        "\n",
        "En la segunda línea de código, el contenido del archivo CSV se lee usando el método read() y el resultado se pasa a la función chardet.detect(), que devuelve un diccionario que contiene información sobre la codificación más probable del archivo. El resultado se imprime con la función print() que muestra la codificación y la confianza asociada con esa codificación.\n",
        "\n",
        "Al ejecutar el código Giovanna obtuvo el siguiente resultado:"
      ],
      "metadata": {
        "id": "gEjAHwzZsv7c"
      }
    },
    {
      "cell_type": "code",
      "source": [
        "{'encoding': 'UTF-16', 'confidence': 1.0, 'language': ''}"
      ],
      "metadata": {
        "id": "ri2nxSfEsw9e"
      },
      "execution_count": null,
      "outputs": []
    },
    {
      "cell_type": "markdown",
      "source": [
        "Ahora ella sabe que es probable que el archivo CSV esté codificado con UTF-16 con una confianza de 1.0. Para especificar la codificación correcta al cargar el archivo CSV con la biblioteca Pandas, puede utilizar un parámetro llamado encoding:"
      ],
      "metadata": {
        "id": "ozdxKsvtsy8a"
      }
    },
    {
      "cell_type": "code",
      "source": [
        "df = pd.read_csv('datos.csv', encoding='UTF-16')"
      ],
      "metadata": {
        "id": "q9UAxjClsz5K"
      },
      "execution_count": null,
      "outputs": []
    },
    {
      "cell_type": "markdown",
      "source": [
        "De esta manera, la biblioteca Pandas cargará el archivo CSV usando la codificación UTF-16, lo que resolverá el error de codificación. Entonces, si alguna vez intentas leer un archivo y obtienes el mismo error, ¡recuerda este consejo!\n",
        "\n",
        "Si deseas profundizar más en el tema, aquí te dejamos algunos enlaces a materiales que fueron utilizados como referencia:\n",
        "\n",
        "- Instituto de Matemáticas y Estadística - IME/USP: Unicode y UTF-8\n",
        "- BM: ¿Qué es Unicode?\n",
        "- Kaggle: codificaciones de caracteres\n"
      ],
      "metadata": {
        "id": "eL4OOGJbs2ip"
      }
    }
  ]
}